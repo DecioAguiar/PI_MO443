{
 "cells": [
  {
   "cell_type": "code",
   "execution_count": 1,
   "metadata": {
    "collapsed": true
   },
   "outputs": [],
   "source": [
    "import numpy as np\n",
    "from scipy import misc\n",
    "from skimage import measure\n",
    "import matplotlib.pyplot as plt\n",
    "%matplotlib inline"
   ]
  },
  {
   "cell_type": "code",
   "execution_count": 2,
   "metadata": {
    "collapsed": true
   },
   "outputs": [],
   "source": [
    "img = misc.imread(\"objetos1.png\", mode=\"L\")"
   ]
  },
  {
   "cell_type": "code",
   "execution_count": 3,
   "metadata": {},
   "outputs": [
    {
     "data": {
      "image/png": "[encoded data removed]",
      "text/plain": [
       "<matplotlib.figure.Figure at 0x7fee9d1c51d0>"
      ]
     },
     "metadata": {},
     "output_type": "display_data"
    }
   ],
   "source": [
    "plt.imshow(img, cmap=\"gray\")\n",
    "plt.show()"
   ]
  },
  {
   "cell_type": "markdown",
   "metadata": {},
   "source": [
    "### Gerar contornos e desenhar"
   ]
  },
  {
   "cell_type": "code",
   "execution_count": 4,
   "metadata": {
    "collapsed": true
   },
   "outputs": [],
   "source": [
    "contours = measure.find_contours(img, 0.8)"
   ]
  },
  {
   "cell_type": "code",
   "execution_count": 5,
   "metadata": {
    "collapsed": true
   },
   "outputs": [],
   "source": [
    "nova_img = np.ones(img.shape) * 255"
   ]
  },
  {
   "cell_type": "code",
   "execution_count": 6,
   "metadata": {
    "collapsed": true
   },
   "outputs": [],
   "source": [
    "label_obj = measure.label(img, neighbors=4, background=None)"
   ]
  },
  {
   "cell_type": "code",
   "execution_count": 7,
   "metadata": {
    "collapsed": true
   },
   "outputs": [],
   "source": [
    "propriedades = measure.regionprops(label_obj)"
   ]
  },
  {
   "cell_type": "code",
   "execution_count": 8,
   "metadata": {},
   "outputs": [
    {
     "data": {
      "image/png": "[encoded data removed]",
      "text/plain": [
       "<matplotlib.figure.Figure at 0x7fafed7dd400>"
      ]
     },
     "metadata": {},
     "output_type": "display_data"
    }
   ],
   "source": [
    "fig, ax = plt.subplots()\n",
    "ax.imshow(nova_img, cmap=plt.cm.gray, vmin=0, vmax=255)\n",
    "\n",
    "for n, contour in enumerate(contours):\n",
    "    ax.plot(contour[:, 1], contour[:, 0], color=\"b\",linewidth=2)\n",
    "\n",
    "ax.axis('image')\n",
    "for i in range(1,len(propriedades)): \n",
    "    plt.text(propriedades[i].centroid[1], propriedades[i].centroid[0], \"%d\" % i)\n",
    "plt.show()"
   ]
  },
  {
   "cell_type": "code",
   "execution_count": 9,
   "metadata": {},
   "outputs": [
    {
     "name": "stdout",
     "output_type": "stream",
     "text": [
      "1 area: 2162 perimetro: 182\n",
      "2 area: 2162 perimetro: 182\n",
      "3 area: 210 perimetro: 54\n",
      "4 area: 210 perimetro: 54\n",
      "5 area: 2116 perimetro: 180\n",
      "6 area: 210 perimetro: 54\n",
      "7 area: 225 perimetro: 56\n",
      "8 area: 2162 perimetro: 182\n",
      "9 area: 225 perimetro: 56\n",
      "10 area: 225 perimetro: 56\n",
      "11 area: 2162 perimetro: 182\n",
      "12 area: 2162 perimetro: 182\n",
      "13 area: 225 perimetro: 56\n",
      "14 area: 210 perimetro: 54\n",
      "15 area: 2116 perimetro: 180\n",
      "16 area: 2162 perimetro: 182\n",
      "17 area: 210 perimetro: 54\n"
     ]
    }
   ],
   "source": [
    "for i in range(1,len(propriedades)):\n",
    "    print(\"%d area: %d perimetro: %d\" % (i,propriedades[i].area,propriedades[i].perimeter))"
   ]
  },
  {
   "cell_type": "code",
   "execution_count": 10,
   "metadata": {
    "collapsed": true
   },
   "outputs": [],
   "source": [
    "grande = 0\n",
    "pequena = 0\n",
    "media = 0\n",
    "for i in range(1,len(propriedades)):\n",
    "    if (propriedades[i].area >= 3000):\n",
    "        grande +=1\n",
    "    elif (propriedades[i].area >= 1500):\n",
    "        media +=1\n",
    "    else:\n",
    "        pequena +=1"
   ]
  },
  {
   "cell_type": "code",
   "execution_count": 11,
   "metadata": {
    "collapsed": true
   },
   "outputs": [],
   "source": [
    "area = []\n",
    "for i in range(1,len(propriedades)):\n",
    "    area.append(propriedades[i].area)"
   ]
  },
  {
   "cell_type": "code",
   "execution_count": 12,
   "metadata": {},
   "outputs": [
    {
     "name": "stdout",
     "output_type": "stream",
     "text": [
      "0\n",
      "8\n",
      "9\n"
     ]
    }
   ],
   "source": [
    "print(grande)\n",
    "print(media)\n",
    "print(pequena)"
   ]
  },
  {
   "cell_type": "code",
   "execution_count": 13,
   "metadata": {},
   "outputs": [
    {
     "data": {
      "image/png": "[encoded data removed]",
      "text/plain": [
       "<matplotlib.figure.Figure at 0x7fafed75c518>"
      ]
     },
     "metadata": {},
     "output_type": "display_data"
    }
   ],
   "source": [
    "plt.hist(area,bins=3, facecolor='b', normed=False)\n",
    "plt.autoscale(enable=True, axis='y', tight=False)\n",
    "plt.xlabel(\"Área\")\n",
    "plt.ylabel(\"Número de objetos\")\n",
    "plt.show()"
   ]
  },
  {
   "cell_type": "markdown",
   "metadata": {},
   "source": [
    "### Gerando os dados dos objetos utilizando scipy"
   ]
  },
  {
   "cell_type": "code",
   "execution_count": 14,
   "metadata": {
    "collapsed": true
   },
   "outputs": [],
   "source": [
    "from scipy import ndimage"
   ]
  },
  {
   "cell_type": "code",
   "execution_count": 15,
   "metadata": {
    "collapsed": true
   },
   "outputs": [],
   "source": [
    "label_im, nb_labels = ndimage.label(img)"
   ]
  },
  {
   "cell_type": "code",
   "execution_count": 16,
   "metadata": {
    "collapsed": true
   },
   "outputs": [],
   "source": [
    "propriedades2 = measure.regionprops(label_im)"
   ]
  },
  {
   "cell_type": "code",
   "execution_count": 17,
   "metadata": {},
   "outputs": [
    {
     "name": "stdout",
     "output_type": "stream",
     "text": [
      "1 area: 2162 perimetro: 182\n",
      "2 area: 2162 perimetro: 182\n",
      "3 area: 210 perimetro: 54\n",
      "4 area: 210 perimetro: 54\n",
      "5 area: 2116 perimetro: 180\n",
      "6 area: 210 perimetro: 54\n",
      "7 area: 225 perimetro: 56\n",
      "8 area: 2162 perimetro: 182\n",
      "9 area: 225 perimetro: 56\n",
      "10 area: 225 perimetro: 56\n",
      "11 area: 2162 perimetro: 182\n",
      "12 area: 2162 perimetro: 182\n",
      "13 area: 225 perimetro: 56\n",
      "14 area: 210 perimetro: 54\n",
      "15 area: 2116 perimetro: 180\n",
      "16 area: 2162 perimetro: 182\n",
      "17 area: 210 perimetro: 54\n"
     ]
    }
   ],
   "source": [
    "for i in range(1,len(propriedades2)):\n",
    "    print(\"%d area: %d perimetro: %d\" % (i,propriedades2[i].area,propriedades2[i].perimeter))"
   ]
  },
  {
   "cell_type": "markdown",
   "metadata": {},
   "source": [
    "### Gerando os dados utilizando threshold_mean binarizando a imagem"
   ]
  },
  {
   "cell_type": "code",
   "execution_count": 6,
   "metadata": {
    "collapsed": true
   },
   "outputs": [],
   "source": [
    "from skimage.filters import threshold_mean"
   ]
  },
  {
   "cell_type": "code",
   "execution_count": null,
   "metadata": {
    "collapsed": true
   },
   "outputs": [],
   "source": []
  }
 ],
 "metadata": {
  "kernelspec": {
   "display_name": "Python 3",
   "language": "python",
   "name": "python3"
  },
  "language_info": {
   "codemirror_mode": {
    "name": "ipython",
    "version": 3
   },
   "file_extension": ".py",
   "mimetype": "text/x-python",
   "name": "python",
   "nbconvert_exporter": "python",
   "pygments_lexer": "ipython3",
   "version": "3.6.3"
  }
 },
 "nbformat": 4,
 "nbformat_minor": 2
}
